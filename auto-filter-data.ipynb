{
 "cells": [
  {
   "cell_type": "code",
   "execution_count": 1,
   "metadata": {
    "collapsed": true,
    "jupyter": {
     "outputs_hidden": true
    }
   },
   "outputs": [],
   "source": [
    "import tensorflow as tf\n",
    "import tensorflow_hub as hub\n",
    "import tempfile\n",
    "from six.moves.urllib.request import urlopen\n",
    "from six import BytesIO\n",
    "\n",
    "\n",
    "import numpy as np\n",
    "from PIL import Image\n",
    "from PIL import ImageColor\n",
    "from PIL import ImageDraw\n",
    "from PIL import ImageFont\n",
    "from PIL import ImageOps\n",
    "\n",
    "import time\n",
    "import math\n",
    "import random\n",
    "import numpy as np\n",
    "import sklearn\n",
    "import matplotlib.pyplot as plt\n",
    "from tensorflow.keras import datasets, layers, models\n",
    "%matplotlib inline"
   ]
  },
  {
   "cell_type": "code",
   "execution_count": 2,
   "metadata": {
    "collapsed": true,
    "jupyter": {
     "outputs_hidden": true
    }
   },
   "outputs": [
    {
     "data": {
      "text/plain": [
       "True"
      ]
     },
     "execution_count": 2,
     "metadata": {},
     "output_type": "execute_result"
    }
   ],
   "source": [
    "import os\n",
    "os.environ['CUDA_VISIBLE_DEVICES'] = '6,7'\n",
    "tf.test.is_gpu_available()"
   ]
  },
  {
   "cell_type": "code",
   "execution_count": 3,
   "metadata": {
    "collapsed": true,
    "jupyter": {
     "outputs_hidden": true
    }
   },
   "outputs": [],
   "source": [
    "def display_image(image):\n",
    "    fig = plt.figure(figsize=(20, 15))\n",
    "    plt.grid(False)\n",
    "    plt.imshow(image)\n",
    "\n",
    "def draw_bounding_box_on_image(image,\n",
    "                               ymin, xmin,\n",
    "                               ymax, xmax,\n",
    "                               color, font, thickness=4, display_str_list=()):\n",
    "    \"\"\"Adds a bounding box to an image.\"\"\"\n",
    "    draw = ImageDraw.Draw(image)\n",
    "    im_width, im_height = image.size\n",
    "    (left, right, top, bottom) = (xmin * im_width, xmax * im_width,\n",
    "                                ymin * im_height, ymax * im_height)\n",
    "    draw.line([(left, top), (left, bottom), (right, bottom), (right, top), (left, top)], width=thickness, fill=color)\n",
    "    display_str_heights = [font.getsize(ds)[1] for ds in display_str_list]\n",
    "    total_display_str_height = (1 + 2 * 0.05) * sum(display_str_heights)\n",
    "    if top > total_display_str_height:\n",
    "        text_bottom = top\n",
    "    else:\n",
    "        text_bottom = bottom + total_display_str_height\n",
    "    for display_str in display_str_list[::-1]:\n",
    "        text_width, text_height = font.getsize(display_str)\n",
    "        margin = np.ceil(0.05 * text_height)\n",
    "        draw.rectangle([(left, text_bottom - text_height - 2 * margin),\n",
    "                    (left + text_width, text_bottom)],\n",
    "                   fill=color)\n",
    "    draw.text((left + margin, text_bottom - text_height - margin), display_str, fill=\"black\", font=font)\n",
    "    text_bottom -= text_height - 2 * margin\n",
    "\n",
    "def draw_boxes(image, boxes, class_names, scores, max_boxes=10, min_score=0.1):\n",
    "    \"\"\"Overlay labeled boxes on an image with formatted scores and label names.\"\"\"\n",
    "    colors = list(ImageColor.colormap.values())\n",
    "    try:\n",
    "        font = ImageFont.truetype(\"/usr/share/fonts/truetype/liberation/LiberationSansNarrow-Regular.ttf\", 25)\n",
    "    except IOError:\n",
    "        print(\"Font not found, using default font.\")\n",
    "        font = ImageFont.load_default()\n",
    "\n",
    "    for i in range(min(boxes.shape[0], max_boxes)):\n",
    "        if scores[i] >= min_score:\n",
    "            ymin, xmin, ymax, xmax = tuple(boxes[i])\n",
    "            display_str = \"{}: {}%\".format(np.array(class_names[i]), int(100 * scores[i]))\n",
    "            color = colors[hash(class_names[i]) % len(colors)]\n",
    "            image_pil = Image.fromarray(np.uint8(image)).convert(\"RGB\")\n",
    "            draw_bounding_box_on_image(image_pil, ymin, xmin, ymax, xmax, color, font, display_str_list=[display_str])\n",
    "            np.copyto(image, np.array(image_pil))\n",
    "    return image"
   ]
  },
  {
   "cell_type": "code",
   "execution_count": 5,
   "metadata": {
    "collapsed": true,
    "jupyter": {
     "outputs_hidden": true
    }
   },
   "outputs": [
    {
     "name": "stdout",
     "output_type": "stream",
     "text": [
      "INFO:tensorflow:Saver not created because there are no variables in the graph to restore\n"
     ]
    }
   ],
   "source": [
    "module_handle = \"pretrained_model\"\n",
    "detector = hub.load(module_handle).signatures['default']"
   ]
  },
  {
   "cell_type": "code",
   "execution_count": 20,
   "metadata": {
    "collapsed": true,
    "jupyter": {
     "outputs_hidden": true
    }
   },
   "outputs": [],
   "source": [
    "def run_detector(detector, img: np.array):\n",
    "    # start_time = time.time()\n",
    "    result = detector(img)\n",
    "    # end_time = time.time()\n",
    "    result = {key:value.numpy() for key,value in result.items()}\n",
    "    # print(\"Found %d objects.\" % len(result[\"detection_scores\"]))\n",
    "    # print(\"Inference time: \", end_time-start_time)\n",
    "    # image_with_boxes = draw_boxes(np.array(img), result[\"detection_boxes\"], result[\"detection_class_entities\"], result[\"detection_scores\"])\n",
    "    # display_image(image_with_boxes)\n",
    "    return result['detection_boxes'][0:5], result[\"detection_class_entities\"][0:5], result[\"detection_scores\"][0:5]"
   ]
  },
  {
   "cell_type": "markdown",
   "metadata": {},
   "source": [
    "# Load all images file paths"
   ]
  },
  {
   "cell_type": "code",
   "execution_count": 7,
   "metadata": {
    "collapsed": true,
    "jupyter": {
     "outputs_hidden": true
    }
   },
   "outputs": [
    {
     "name": "stdout",
     "output_type": "stream",
     "text": [
      "Loading images for 'Aberrant Bush-Warbler'\n",
      "303 images loaded for 'Aberrant Bush-Warbler'\n",
      "Loading images for 'Ala Shan Redstart'\n",
      "470 images loaded for 'Ala Shan Redstart'\n",
      "Loading images for 'Aleutian Tern'\n",
      "316 images loaded for 'Aleutian Tern'\n",
      "Loading images for 'Altai Snowcock'\n",
      "458 images loaded for 'Altai Snowcock'\n",
      "Loading images for 'American Wigeon'\n",
      "500 images loaded for 'American Wigeon'\n",
      "Loading images for 'Amur Falcon'\n",
      "no data for 'Amur Falcon', skipping...\n",
      "Loading images for 'Arctic Warbler'\n",
      "353 images loaded for 'Arctic Warbler'\n",
      "Loading images for 'Ashy Bulbul'\n",
      "340 images loaded for 'Ashy Bulbul'\n",
      "Loading images for 'Ashy Drongo'\n",
      "455 images loaded for 'Ashy Drongo'\n",
      "Loading images for 'Ashy Minivet'\n",
      "499 images loaded for 'Ashy Minivet'\n",
      "Loading images for 'Ashy Wood Pigeon'\n",
      "375 images loaded for 'Ashy Wood Pigeon'\n"
     ]
    }
   ],
   "source": [
    "data_path = '/home/tjy/data/china-birds-images'\n",
    "import os\n",
    "\n",
    "n_birds = 10 # use ten kinds of birds first\n",
    "bird_file_map = {}\n",
    "\n",
    "# return array of bird names\n",
    "birdList = sorted(os.listdir(data_path))\n",
    "loadedImages = []\n",
    "\n",
    "n_images = 0\n",
    "n_birds_loaded = 0\n",
    "for b in birdList:\n",
    "    if n_birds_loaded >= n_birds:\n",
    "        break\n",
    "    print(\"Loading images for '\" + b + \"'\")\n",
    "    curdir = os.path.join(data_path, b)\n",
    "    if not os.path.isdir(curdir):\n",
    "        continue\n",
    "    img_files = os.listdir(curdir)\n",
    "    \n",
    "    filenames = [os.path.join(curdir, f) for f in img_files]\n",
    "    n_f = len(filenames)\n",
    "    if n_f == 0:\n",
    "        print(\"no data for '\" + b + \"', skipping...\")\n",
    "        continue\n",
    "    bird_file_map[b] = filenames\n",
    "    print(n_f, \"images loaded for '\" + b + \"'\")\n",
    "    n_birds_loaded += 1\n",
    "    n_images += n_f"
   ]
  },
  {
   "cell_type": "markdown",
   "metadata": {},
   "source": [
    "# Crop to bounding box if containing a bird"
   ]
  },
  {
   "cell_type": "code",
   "execution_count": 28,
   "metadata": {},
   "outputs": [
    {
     "name": "stdout",
     "output_type": "stream",
     "text": [
      "skipping /home/tjy/data/china-birds-images/Aberrant Bush-Warbler/.ipynb_checkpoints\n",
      "270 images for Aberrant Bush-Warbler\n",
      "401 images for Ala Shan Redstart\n",
      "skipping /home/tjy/data/china-birds-images/Aleutian Tern/221.255be0_9384aa8474074e40802e47ddc7e625f6~mv2.webp\n",
      "skipping /home/tjy/data/china-birds-images/Aleutian Tern/243.adult-breeding-aleutian-tern-onychoprion-260nw-1217134894.jpg\n",
      "skipping /home/tjy/data/china-birds-images/Aleutian Tern/302.072716_e53d29866bb441ae9175be4b08ad6845~mv2_d_2745_3721_s_4_2.webp\n",
      "skipping /home/tjy/data/china-birds-images/Aleutian Tern/64.adult-breeding-aleutian-tern-onychoprion-600w-1217141257.jpg\n",
      "skipping /home/tjy/data/china-birds-images/Aleutian Tern/275.adult-breeding-aleutian-tern-onychoprion-260nw-1217134879.jpg\n",
      "skipping /home/tjy/data/china-birds-images/Aleutian Tern/259.adult-breeding-aleutian-tern-onychoprion-260nw-1216609549.jpg\n",
      "skipping /home/tjy/data/china-birds-images/Aleutian Tern/207.072716_b2c5b076733b44a88396b9d975e9c3b9~mv2.webp\n",
      "282 images for Aleutian Tern\n",
      "skipping /home/tjy/data/china-birds-images/Altai Snowcock/285.view-over-tibetan-snowcock-native-260nw-1216317487.jpg\n",
      "skipping /home/tjy/data/china-birds-images/Altai Snowcock/455.02c61a_983775bfb08e4f38a4b1d4474a10c5a9~mv2.webp\n",
      "skipping /home/tjy/data/china-birds-images/Altai Snowcock/.ipynb_checkpoints\n",
      "244 images for Altai Snowcock\n",
      "skipping /home/tjy/data/china-birds-images/American Wigeon/90.GREENSLADE-Wigeon_DSC5064_600.jpg\n",
      "skipping /home/tjy/data/china-birds-images/American Wigeon/225.american-wigeon-anas-americana-victoria-260nw-553340245.jpg\n",
      "skipping /home/tjy/data/china-birds-images/American Wigeon/458.american-wigeon-drake-calling-new-260nw-85151857.jpg\n",
      "486 images for American Wigeon\n",
      "skipping /home/tjy/data/china-birds-images/Arctic Warbler/152.adult-arctic-warbler-phylloscopus-borealis-260nw-1217784493.jpg\n",
      "skipping /home/tjy/data/china-birds-images/Arctic Warbler/225.adult-arctic-warbler-phylloscopus-borealis-260nw-1217784586.jpg\n",
      "skipping /home/tjy/data/china-birds-images/Arctic Warbler/192.adult-arctic-warbler-phylloscopus-borealis-260nw-1217784571.jpg\n",
      "skipping /home/tjy/data/china-birds-images/Arctic Warbler/348.adult-arctic-warbler-phylloscopus-borealis-260nw-1217744908.jpg\n",
      "skipping /home/tjy/data/china-birds-images/Arctic Warbler/136.adult-arctic-warbler-phylloscopus-borealis-260nw-1217784463.jpg\n",
      "329 images for Arctic Warbler\n",
      "skipping /home/tjy/data/china-birds-images/Ashy Bulbul/26.beautiful-bulbul-bird-ashy-hemixos-600w-780849055.jpg\n",
      "skipping /home/tjy/data/china-birds-images/Ashy Bulbul/168.ashy-bulbul-close-nature-260nw-608125409.jpg\n",
      "310 images for Ashy Bulbul\n",
      "skipping /home/tjy/data/china-birds-images/Ashy Drongo/246.622574223.webp\n",
      "skipping /home/tjy/data/china-birds-images/Ashy Drongo/45.ashy-drongo-bird-perched-on-260nw-1384510979.jpg\n",
      "412 images for Ashy Drongo\n",
      "skipping /home/tjy/data/china-birds-images/Ashy Minivet/259.birdsblackthroated-laughingthrush-garrulax-chinensis-isolated-260nw-306142997.jpg\n",
      "skipping /home/tjy/data/china-birds-images/Ashy Minivet/85.ashy-minivet-260nw-673880449.jpg\n",
      "skipping /home/tjy/data/china-birds-images/Ashy Minivet/196.oriental-magpie-robin-song-bird-260nw-498738805.jpg\n",
      "skipping /home/tjy/data/china-birds-images/Ashy Minivet/224.ashy-minivet-thailand-260nw-1077588071.jpg\n",
      "skipping /home/tjy/data/china-birds-images/Ashy Minivet/155.ashy-minivet-260nw-407205757.jpg\n",
      "443 images for Ashy Minivet\n",
      "skipping /home/tjy/data/china-birds-images/Ashy Wood Pigeon/210.wood-pigeon-columba-palumbus-single-260nw-1173762037.jpg\n",
      "skipping /home/tjy/data/china-birds-images/Ashy Wood Pigeon/190.wood-pigeon-common-english-looking-260nw-1101000899.jpg\n",
      "skipping /home/tjy/data/china-birds-images/Ashy Wood Pigeon/301.Rock%20Pigeon.webp\n",
      "skipping /home/tjy/data/china-birds-images/Ashy Wood Pigeon/226.nz-wood-pigeon-native-new-260nw-567872005.jpg\n",
      "skipping /home/tjy/data/china-birds-images/Ashy Wood Pigeon/72.pigeon-feeding-durbar-square-kathmandu-260nw-1098589583.jpg\n",
      "skipping /home/tjy/data/china-birds-images/Ashy Wood Pigeon/47.mysterious-bird-ashy-wood-pigeon-260nw-1189385536.jpg\n",
      "skipping /home/tjy/data/china-birds-images/Ashy Wood Pigeon/35.birds-on-floor-panorama-ratio-260nw-1134260774.jpg\n",
      "skipping /home/tjy/data/china-birds-images/Ashy Wood Pigeon/109.ash-purebred-uzbek-forelocks-pigeon-260nw-328350632.jpg\n",
      "skipping /home/tjy/data/china-birds-images/Ashy Wood Pigeon/333.Black-headed%20Ibis.webp\n",
      "skipping /home/tjy/data/china-birds-images/Ashy Wood Pigeon/30.mysterious-bird-ashy-wood-pigeon-600w-1189385533.jpg\n",
      "335 images for Ashy Wood Pigeon\n"
     ]
    }
   ],
   "source": [
    "import math\n",
    "import os\n",
    "output_dir = 'data-filtered'\n",
    "bird_category_names = ['Magpie','Bird','Woodpecker', 'Blue jay','Spatula','Ostrich','Raven','Owl','Duck', 'Goose', 'Swan', 'Falcon', 'Sparrow']\n",
    "\n",
    "def crop_and_save(im, box, output_path):\n",
    "    ymin = math.floor(box[0] * im.shape[1])\n",
    "    xmin = math.floor(box[1] * im.shape[2])\n",
    "    ymax = math.floor(box[2] * im.shape[1])\n",
    "    xmax = math.floor(box[3] * im.shape[2])\n",
    "    # print('bounding box (ymin, xmin, ymax, xmax):', ymin, xmin, ymax, xmax)\n",
    "    cropped_image = tf.image.crop_to_bounding_box(im, ymin, xmin, ymax - ymin, xmax - xmin)\n",
    "    # display_image(cropped_image[0])\n",
    "    cropped_image = tf.image.convert_image_dtype(cropped_image[0], tf.uint8)\n",
    "    encoded = tf.io.encode_jpeg(cropped_image)\n",
    "    tf.io.write_file(output_path, encoded)\n",
    "        \n",
    "for bird in bird_file_map.keys():\n",
    "    im_no = 0\n",
    "    for file in bird_file_map[bird]:\n",
    "        try:\n",
    "            im = tf.io.read_file(file)\n",
    "            im = tf.io.decode_image(im, channels=3, expand_animations=False)\n",
    "            im = tf.image.convert_image_dtype(im, tf.float32)[tf.newaxis, ...]\n",
    "        except:\n",
    "            print(\"skipping\", file)\n",
    "            continue\n",
    "        # print('image size:', im.shape)\n",
    "        output_path = os.path.join(output_dir, bird)\n",
    "        os.makedirs(output_path, exist_ok=True)\n",
    "        \n",
    "        boxes, class_names, _ = run_detector(detector, im)\n",
    "        b = boxes[0]\n",
    "        c = class_names[0]\n",
    "        if c.decode('ascii') not in bird_category_names:\n",
    "            continue\n",
    "        file_path = '{0}_{1}.jpeg'.format(bird, im_no)\n",
    "        if os.path.exists(file_path):\n",
    "            os.remove(file_path)\n",
    "        crop_and_save(im, b, os.path.join(output_path, file_path))\n",
    "        im_no += 1\n",
    "    print('{0} images for {1}'.format(im_no, bird))"
   ]
  },
  {
   "cell_type": "code",
   "execution_count": null,
   "metadata": {
    "collapsed": true,
    "jupyter": {
     "outputs_hidden": true
    }
   },
   "outputs": [],
   "source": []
  }
 ],
 "metadata": {
  "kernelspec": {
   "display_name": "Python 3",
   "language": "python",
   "name": "python3"
  },
  "language_info": {
   "codemirror_mode": {
    "name": "ipython",
    "version": 3
   },
   "file_extension": ".py",
   "mimetype": "text/x-python",
   "name": "python",
   "nbconvert_exporter": "python",
   "pygments_lexer": "ipython3",
   "version": "3.7.4"
  }
 },
 "nbformat": 4,
 "nbformat_minor": 4
}
